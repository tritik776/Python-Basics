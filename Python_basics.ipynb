{
  "nbformat": 4,
  "nbformat_minor": 0,
  "metadata": {
    "colab": {
      "provenance": []
    },
    "kernelspec": {
      "name": "python3",
      "display_name": "Python 3"
    },
    "language_info": {
      "name": "python"
    }
  },
  "cells": [
    {
      "cell_type": "markdown",
      "source": [
        "# Python Basics Questions"
      ],
      "metadata": {
        "id": "BfIglU49yQTY"
      }
    },
    {
      "cell_type": "markdown",
      "source": [
        "1. What is Python, and why is it popular?\n",
        "- Python is a high-level, interpreted programming language known for its simplicity and readability. It is popular because:\n",
        "\n",
        "    It has an easy-to-learn syntax.\n",
        "    It supports multiple programming paradigms (procedural, object-oriented, functional).\n",
        "    It has a vast standard library and strong community support.\n",
        "    It is widely used in web development, data science, artificial intelligence, and automation"
      ],
      "metadata": {
        "id": "-gt4RvuayWGo"
      }
    },
    {
      "cell_type": "markdown",
      "source": [
        "2. What is an interpreter in Python?\n",
        "- An interpreter is a program that executes Python code line by line, converting high-level code into machine code without requiring compilation."
      ],
      "metadata": {
        "id": "QB9tskzOyv75"
      }
    },
    {
      "cell_type": "markdown",
      "source": [
        "3. What are pre-defined keywords in Python?\n",
        "- Pre-defined keywords are reserved words in Python that have a specific meaning and cannot be used as variable names (e.g., if, else, for, while, def, class)."
      ],
      "metadata": {
        "id": "yxwKbuMZzNdg"
      }
    },
    {
      "cell_type": "markdown",
      "source": [
        "4. Can keywords be used as variable names?\n",
        "- No, keywords cannot be used as variable names because they are reserved for specific syntax and functionalities."
      ],
      "metadata": {
        "id": "HIaWc68NzV4w"
      }
    },
    {
      "cell_type": "markdown",
      "source": [
        "5. What is mutability in Python?\n",
        "- Mutability refers to whether an object can be changed after its creation. Mutable objects (like lists) can be modified, while immutable objects (like tuples) cannot."
      ],
      "metadata": {
        "id": "NI9P_n1_zeyY"
      }
    },
    {
      "cell_type": "markdown",
      "source": [
        "6. Why are lists mutable, but tuples are immutable?\n",
        "- Lists are mutable because they allow modification after creation, while tuples are immutable to ensure data integrity and efficiency."
      ],
      "metadata": {
        "id": "V1Fc7X5gzoSo"
      }
    },
    {
      "cell_type": "markdown",
      "source": [
        "7. What is the difference between “==” and “is” operators in Python?\n",
        "- == checks for value equality (whether two variables have the same value).\n",
        "\n",
        "- is checks for identity equality (whether two variables point to the same memory location)."
      ],
      "metadata": {
        "id": "BQkPQNgkz5cQ"
      }
    },
    {
      "cell_type": "markdown",
      "source": [
        "8. What are logical operators in Python?\n",
        "   \n",
        "   Logical operators are used to combine conditional statements:\n",
        "- and (returns True if both conditions are true)\n",
        "- or (returns True if at least one condition is true)\n",
        "-not (negates a condition)"
      ],
      "metadata": {
        "id": "WKTZ0ou-0U7y"
      }
    },
    {
      "cell_type": "markdown",
      "source": [
        "9. What is type casting in Python?\n",
        "- Type casting is converting one data type into another (e.g., converting a string to an integer)."
      ],
      "metadata": {
        "id": "YS9K2-Tm0pB_"
      }
    },
    {
      "cell_type": "markdown",
      "source": [
        "10. What is the difference between implicit and explicit type casting?\n",
        "- Implicit casting: Python automatically converts one data type to another (int to float).\n",
        "- Explicit casting: The user manually converts data types using functions like int(), float(), and str()."
      ],
      "metadata": {
        "id": "kEej1OXW1rLA"
      }
    },
    {
      "cell_type": "markdown",
      "source": [
        "11. What is the purpose of conditional statements in Python?\n",
        "- Conditional statements (if, elif, else) allow a program to make decisions based on conditions."
      ],
      "metadata": {
        "id": "ndyGFP5f2YPw"
      }
    },
    {
      "cell_type": "markdown",
      "source": [
        "12.  How does the elif statement work?\n",
        "- The elif statement provides an alternative condition if the previous if condition is False."
      ],
      "metadata": {
        "id": "Yrqetv0k2gc4"
      }
    },
    {
      "cell_type": "markdown",
      "source": [
        "13. What is the difference between for and while loops?\n",
        "- for loops iterate over a sequence (list, range, string).\n",
        "- while loops execute as long as a condition is True."
      ],
      "metadata": {
        "id": "Zd6ambV72oa3"
      }
    },
    {
      "cell_type": "markdown",
      "source": [
        "14.  Describe a scenario where a while loop is more suitable than a for loop.\n",
        "- A while loop is better when the number of iterations is unknown beforehand, such as waiting for user input until a valid response is given."
      ],
      "metadata": {
        "id": "jA8whOJc24MX"
      }
    },
    {
      "cell_type": "markdown",
      "source": [
        "# Practical Questions"
      ],
      "metadata": {
        "id": "DmjuhpS83DGv"
      }
    },
    {
      "cell_type": "markdown",
      "source": [
        "1. Write a Python program to print \"Hello, World!_"
      ],
      "metadata": {
        "id": "D6AQ0KVU3H0f"
      }
    },
    {
      "cell_type": "code",
      "source": [
        "print(\"Hello, World!\")"
      ],
      "metadata": {
        "colab": {
          "base_uri": "https://localhost:8080/"
        },
        "id": "W2tRB4PK3Nf5",
        "outputId": "9ae30826-6210-429a-b614-64b33127b03e"
      },
      "execution_count": 1,
      "outputs": [
        {
          "output_type": "stream",
          "name": "stdout",
          "text": [
            "Hello, World!\n"
          ]
        }
      ]
    },
    {
      "cell_type": "markdown",
      "source": [
        "2. Write a Python program that displays your name and age."
      ],
      "metadata": {
        "id": "voGwCw8Z3RWI"
      }
    },
    {
      "cell_type": "code",
      "source": [
        "name = \"John\"\n",
        "age = 25\n",
        "print(f\"My name is {name} and I am {age} years old.\")"
      ],
      "metadata": {
        "colab": {
          "base_uri": "https://localhost:8080/"
        },
        "id": "SglQSJI73WpR",
        "outputId": "ab8e5b26-17e5-4efb-93d0-e8fb7aaeb335"
      },
      "execution_count": 2,
      "outputs": [
        {
          "output_type": "stream",
          "name": "stdout",
          "text": [
            "My name is John and I am 25 years old.\n"
          ]
        }
      ]
    },
    {
      "cell_type": "markdown",
      "source": [
        "3. Write code to print all the pre-defined keywords in Python using the keyword library."
      ],
      "metadata": {
        "id": "4o1-NAnA3aGg"
      }
    },
    {
      "cell_type": "code",
      "source": [
        "import keyword\n",
        "print(keyword.kwlist)"
      ],
      "metadata": {
        "colab": {
          "base_uri": "https://localhost:8080/"
        },
        "id": "hDDOs4433e0o",
        "outputId": "ec1ee136-10d5-485d-abdc-89b2bda64362"
      },
      "execution_count": 3,
      "outputs": [
        {
          "output_type": "stream",
          "name": "stdout",
          "text": [
            "['False', 'None', 'True', 'and', 'as', 'assert', 'async', 'await', 'break', 'class', 'continue', 'def', 'del', 'elif', 'else', 'except', 'finally', 'for', 'from', 'global', 'if', 'import', 'in', 'is', 'lambda', 'nonlocal', 'not', 'or', 'pass', 'raise', 'return', 'try', 'while', 'with', 'yield']\n"
          ]
        }
      ]
    },
    {
      "cell_type": "markdown",
      "source": [
        "4. Write a program that checks if a given word is a Python keyword."
      ],
      "metadata": {
        "id": "eA1XeNSM3m6R"
      }
    },
    {
      "cell_type": "code",
      "source": [
        "import keyword\n",
        "\n",
        "word = input(\"Enter a word: \")\n",
        "if keyword.iskeyword(word):\n",
        "    print(f\"'{word}' is a Python keyword.\")\n",
        "else:\n",
        "    print(f\"'{word}' is not a Python keyword.\")"
      ],
      "metadata": {
        "colab": {
          "base_uri": "https://localhost:8080/"
        },
        "id": "ZSYkdk7K3t13",
        "outputId": "2da3bbf2-891e-4e9b-8ca8-da330e86f3e7"
      },
      "execution_count": 21,
      "outputs": [
        {
          "output_type": "stream",
          "name": "stdout",
          "text": [
            "Enter a word: await\n",
            "'await' is a Python keyword.\n"
          ]
        }
      ]
    },
    {
      "cell_type": "markdown",
      "source": [
        "5. Create a list and tuple in Python, and demonstrate how attempting to change an element works differently for each."
      ],
      "metadata": {
        "id": "JDaXU4gn3w8v"
      }
    },
    {
      "cell_type": "code",
      "source": [
        "# List (Mutable)\n",
        "my_list = [1, 2, 3]\n",
        "my_list[0] = 10  # Allowed\n",
        "\n",
        "# Tuple (Immutable)\n",
        "my_tuple = (1, 2, 3)\n",
        "# my_tuple[0] = 10  # This will raise an error"
      ],
      "metadata": {
        "id": "UfeVO8Hr32-_"
      },
      "execution_count": 6,
      "outputs": []
    },
    {
      "cell_type": "markdown",
      "source": [
        "6. Write a function to demonstrate the behavior of mutable and immutable arguments."
      ],
      "metadata": {
        "id": "PPqjmtrb4Hs4"
      }
    },
    {
      "cell_type": "code",
      "source": [
        "def modify_elements(mutable_list, immutable_num):\n",
        "    mutable_list.append(4)  # Modifies original list\n",
        "    immutable_num += 1  # Creates a new number\n",
        "\n",
        "lst = [1, 2, 3]\n",
        "num = 5\n",
        "modify_elements(lst, num)\n",
        "print(lst)  # Output: [1, 2, 3, 4]\n",
        "print(num)  # Output: 5 (unchanged)"
      ],
      "metadata": {
        "colab": {
          "base_uri": "https://localhost:8080/"
        },
        "id": "p9mzXwO24Lxf",
        "outputId": "93d52fde-20e4-418a-c4e3-c2ad5d1f33d7"
      },
      "execution_count": 7,
      "outputs": [
        {
          "output_type": "stream",
          "name": "stdout",
          "text": [
            "[1, 2, 3, 4]\n",
            "5\n"
          ]
        }
      ]
    },
    {
      "cell_type": "markdown",
      "source": [
        "7. Write a function to demonstrate the behavior of mutable and immutable arguments."
      ],
      "metadata": {
        "id": "DvyvwQma4Qdw"
      }
    },
    {
      "cell_type": "code",
      "source": [
        "def modify_elements(mutable_list, immutable_num):\n",
        "    mutable_list.append(4)  # Modifies original list\n",
        "    immutable_num += 1  # Creates a new number\n",
        "\n",
        "lst = [1, 2, 3]\n",
        "num = 5\n",
        "modify_elements(lst, num)\n",
        "print(lst)  # Output: [1, 2, 3, 4]\n",
        "print(num)  # Output: 5 (unchanged)"
      ],
      "metadata": {
        "colab": {
          "base_uri": "https://localhost:8080/"
        },
        "id": "wGbywamz4Ur3",
        "outputId": "134e6e61-c09d-44a5-a0eb-e660ed36877a"
      },
      "execution_count": 8,
      "outputs": [
        {
          "output_type": "stream",
          "name": "stdout",
          "text": [
            "[1, 2, 3, 4]\n",
            "5\n"
          ]
        }
      ]
    },
    {
      "cell_type": "markdown",
      "source": [
        "8. Write a program to demonstrate the use of logical operators."
      ],
      "metadata": {
        "id": "jf7l6-rE6LTA"
      }
    },
    {
      "cell_type": "code",
      "source": [
        "a = True\n",
        "b = False\n",
        "\n",
        "print(a and b)  # False\n",
        "print(a or b)   # True\n",
        "print(not a)    # False"
      ],
      "metadata": {
        "colab": {
          "base_uri": "https://localhost:8080/"
        },
        "id": "0vMxfgqB6PzQ",
        "outputId": "5d9562bb-e8b4-4d4c-ebee-776fe3eb8df1"
      },
      "execution_count": 9,
      "outputs": [
        {
          "output_type": "stream",
          "name": "stdout",
          "text": [
            "False\n",
            "True\n",
            "False\n"
          ]
        }
      ]
    },
    {
      "cell_type": "markdown",
      "source": [
        "9. Write a Python program to convert user input from string to integer, float, and boolean types."
      ],
      "metadata": {
        "id": "iQcKqoyk6Wno"
      }
    },
    {
      "cell_type": "code",
      "source": [
        "user_input = input(\"Enter a value: \")\n",
        "int_val = int(user_input)\n",
        "float_val = float(user_input)\n",
        "bool_val = bool(user_input)\n",
        "\n",
        "print(int_val, float_val, bool_val)"
      ],
      "metadata": {
        "colab": {
          "base_uri": "https://localhost:8080/"
        },
        "id": "PQOtPIPk7i0w",
        "outputId": "bf56668e-f77e-47c1-8a1e-4318b26b74de"
      },
      "execution_count": 20,
      "outputs": [
        {
          "output_type": "stream",
          "name": "stdout",
          "text": [
            "Enter a value: 63\n",
            "63 63.0 True\n"
          ]
        }
      ]
    },
    {
      "cell_type": "markdown",
      "source": [
        "10. Write code to demonstrate type casting with list elements."
      ],
      "metadata": {
        "id": "yfQoWliR7oeA"
      }
    },
    {
      "cell_type": "code",
      "source": [
        "num_list = [\"1\", \"2\", \"3\"]\n",
        "int_list = list(map(int, num_list))\n",
        "print(int_list)  # Output: [1, 2, 3]"
      ],
      "metadata": {
        "colab": {
          "base_uri": "https://localhost:8080/"
        },
        "id": "2Ijzl0T17usR",
        "outputId": "5df5e436-3335-433d-cdb3-b54fbddcbff1"
      },
      "execution_count": 11,
      "outputs": [
        {
          "output_type": "stream",
          "name": "stdout",
          "text": [
            "[1, 2, 3]\n"
          ]
        }
      ]
    },
    {
      "cell_type": "markdown",
      "source": [
        "11. Write a program that checks if a number is positive, negative, or zero"
      ],
      "metadata": {
        "id": "YMPxJr8M7yn4"
      }
    },
    {
      "cell_type": "code",
      "source": [
        "num = int(input(\"Enter a number: \"))\n",
        "\n",
        "if num > 0:\n",
        "    print(\"Positive\")\n",
        "elif num < 0:\n",
        "    print(\"Negative\")\n",
        "else:\n",
        "    print(\"Zero\")"
      ],
      "metadata": {
        "colab": {
          "base_uri": "https://localhost:8080/"
        },
        "id": "ST4dJrL-8B-4",
        "outputId": "39e82bf0-2f4d-4a0f-c91e-583b27357193"
      },
      "execution_count": 13,
      "outputs": [
        {
          "output_type": "stream",
          "name": "stdout",
          "text": [
            "Enter a number: 5\n",
            "Positive\n"
          ]
        }
      ]
    },
    {
      "cell_type": "markdown",
      "source": [
        "12. Write a for loop to print numbers from 1 to 100."
      ],
      "metadata": {
        "id": "-4i6C0E48DkH"
      }
    },
    {
      "cell_type": "code",
      "source": [
        "for i in range(1, 11):\n",
        "    print(i)"
      ],
      "metadata": {
        "colab": {
          "base_uri": "https://localhost:8080/"
        },
        "id": "nihPjqnj8Iwo",
        "outputId": "1b762600-765f-4169-9c67-26198657efbb"
      },
      "execution_count": 14,
      "outputs": [
        {
          "output_type": "stream",
          "name": "stdout",
          "text": [
            "1\n",
            "2\n",
            "3\n",
            "4\n",
            "5\n",
            "6\n",
            "7\n",
            "8\n",
            "9\n",
            "10\n"
          ]
        }
      ]
    },
    {
      "cell_type": "markdown",
      "source": [
        "13. Write a Python program to find the sum of all even numbers between 1 and 50."
      ],
      "metadata": {
        "id": "Uu3bJSTo8MJx"
      }
    },
    {
      "cell_type": "code",
      "source": [
        "even_sum = sum(i for i in range(1, 51) if i % 2 == 0)\n",
        "print(even_sum)  # Output: 650"
      ],
      "metadata": {
        "colab": {
          "base_uri": "https://localhost:8080/"
        },
        "id": "--p-9poJ8P_h",
        "outputId": "1ae57708-82e1-4c28-ca63-f4d8ae4613b2"
      },
      "execution_count": 15,
      "outputs": [
        {
          "output_type": "stream",
          "name": "stdout",
          "text": [
            "650\n"
          ]
        }
      ]
    },
    {
      "cell_type": "markdown",
      "source": [
        "14. Write a program to reverse a string using a while loop"
      ],
      "metadata": {
        "id": "iH448Mo68zlv"
      }
    },
    {
      "cell_type": "code",
      "source": [
        "word = input(\"Enter a string: \")\n",
        "reversed_word = \"\"\n",
        "index = len(word) - 1\n",
        "\n",
        "while index >= 0:\n",
        "    reversed_word += word[index]\n",
        "    index -= 1\n",
        "\n",
        "print(reversed_word)"
      ],
      "metadata": {
        "colab": {
          "base_uri": "https://localhost:8080/"
        },
        "id": "EjGYUi1d82sA",
        "outputId": "bc8c39bd-b82f-46fe-dbb0-8e56e096ea76"
      },
      "execution_count": 16,
      "outputs": [
        {
          "output_type": "stream",
          "name": "stdout",
          "text": [
            "Enter a string: Hello worlg\n",
            "glrow olleH\n"
          ]
        }
      ]
    },
    {
      "cell_type": "markdown",
      "source": [
        "15. Write a Python program to calculate the factorial of a number provided by the user using a while loop."
      ],
      "metadata": {
        "id": "859hhzZW86Qf"
      }
    },
    {
      "cell_type": "code",
      "source": [
        "num = int(input(\"Enter a number: \"))\n",
        "factorial = 1\n",
        "i = num\n",
        "\n",
        "while i > 0:\n",
        "    factorial *= i\n",
        "    i -= 1\n",
        "\n",
        "print(f\"Factorial of {num} is {factorial}\")"
      ],
      "metadata": {
        "colab": {
          "base_uri": "https://localhost:8080/"
        },
        "id": "ttjgSK4L9COo",
        "outputId": "e5c6a7ba-64a6-4d09-ee86-55b84996f5b9"
      },
      "execution_count": 18,
      "outputs": [
        {
          "output_type": "stream",
          "name": "stdout",
          "text": [
            "Enter a number: 86\n",
            "Factorial of 86 is 24227095383672732381765523203441259715284870552429381750838764496720162249742450276789464634901319465571660595200000000000000000000\n"
          ]
        }
      ]
    }
  ]
}